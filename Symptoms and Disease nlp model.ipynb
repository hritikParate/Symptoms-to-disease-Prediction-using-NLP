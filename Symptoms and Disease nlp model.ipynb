{
 "cells": [
  {
   "cell_type": "code",
   "execution_count": 2,
   "id": "7256bd4e",
   "metadata": {},
   "outputs": [],
   "source": [
    "import pandas as pd\n",
    "import numpy as np\n",
    "import matplotlib.pyplot as plt\n",
    "import seaborn as sns"
   ]
  },
  {
   "cell_type": "code",
   "execution_count": 3,
   "id": "7ccc84b1",
   "metadata": {},
   "outputs": [
    {
     "data": {
      "text/plain": [
       "['.ipynb_checkpoints',\n",
       " 'Emotion classification.ipynb',\n",
       " 'Symptom2Disease.csv',\n",
       " 'Symptoms and Disease nlp model.ipynb',\n",
       " 'test.txt',\n",
       " 'train.txt',\n",
       " 'Untitled.ipynb',\n",
       " 'val.txt']"
      ]
     },
     "execution_count": 3,
     "metadata": {},
     "output_type": "execute_result"
    }
   ],
   "source": [
    "import os\n",
    "os.listdir()"
   ]
  },
  {
   "cell_type": "code",
   "execution_count": 4,
   "id": "cc3ba8b9",
   "metadata": {},
   "outputs": [
    {
     "data": {
      "text/html": [
       "<div>\n",
       "<style scoped>\n",
       "    .dataframe tbody tr th:only-of-type {\n",
       "        vertical-align: middle;\n",
       "    }\n",
       "\n",
       "    .dataframe tbody tr th {\n",
       "        vertical-align: top;\n",
       "    }\n",
       "\n",
       "    .dataframe thead th {\n",
       "        text-align: right;\n",
       "    }\n",
       "</style>\n",
       "<table border=\"1\" class=\"dataframe\">\n",
       "  <thead>\n",
       "    <tr style=\"text-align: right;\">\n",
       "      <th></th>\n",
       "      <th>Unnamed: 0</th>\n",
       "      <th>label</th>\n",
       "      <th>text</th>\n",
       "    </tr>\n",
       "  </thead>\n",
       "  <tbody>\n",
       "    <tr>\n",
       "      <th>0</th>\n",
       "      <td>0</td>\n",
       "      <td>Psoriasis</td>\n",
       "      <td>I have been experiencing a skin rash on my arm...</td>\n",
       "    </tr>\n",
       "    <tr>\n",
       "      <th>1</th>\n",
       "      <td>1</td>\n",
       "      <td>Psoriasis</td>\n",
       "      <td>My skin has been peeling, especially on my kne...</td>\n",
       "    </tr>\n",
       "    <tr>\n",
       "      <th>2</th>\n",
       "      <td>2</td>\n",
       "      <td>Psoriasis</td>\n",
       "      <td>I have been experiencing joint pain in my fing...</td>\n",
       "    </tr>\n",
       "    <tr>\n",
       "      <th>3</th>\n",
       "      <td>3</td>\n",
       "      <td>Psoriasis</td>\n",
       "      <td>There is a silver like dusting on my skin, esp...</td>\n",
       "    </tr>\n",
       "    <tr>\n",
       "      <th>4</th>\n",
       "      <td>4</td>\n",
       "      <td>Psoriasis</td>\n",
       "      <td>My nails have small dents or pits in them, and...</td>\n",
       "    </tr>\n",
       "    <tr>\n",
       "      <th>...</th>\n",
       "      <td>...</td>\n",
       "      <td>...</td>\n",
       "      <td>...</td>\n",
       "    </tr>\n",
       "    <tr>\n",
       "      <th>1195</th>\n",
       "      <td>295</td>\n",
       "      <td>diabetes</td>\n",
       "      <td>I'm shaking and trembling all over. I've lost ...</td>\n",
       "    </tr>\n",
       "    <tr>\n",
       "      <th>1196</th>\n",
       "      <td>296</td>\n",
       "      <td>diabetes</td>\n",
       "      <td>Particularly in the crevices of my skin, I hav...</td>\n",
       "    </tr>\n",
       "    <tr>\n",
       "      <th>1197</th>\n",
       "      <td>297</td>\n",
       "      <td>diabetes</td>\n",
       "      <td>I regularly experience these intense urges and...</td>\n",
       "    </tr>\n",
       "    <tr>\n",
       "      <th>1198</th>\n",
       "      <td>298</td>\n",
       "      <td>diabetes</td>\n",
       "      <td>I have trouble breathing, especially outside. ...</td>\n",
       "    </tr>\n",
       "    <tr>\n",
       "      <th>1199</th>\n",
       "      <td>299</td>\n",
       "      <td>diabetes</td>\n",
       "      <td>I constantly sneeze and have a dry cough. My i...</td>\n",
       "    </tr>\n",
       "  </tbody>\n",
       "</table>\n",
       "<p>1200 rows × 3 columns</p>\n",
       "</div>"
      ],
      "text/plain": [
       "      Unnamed: 0      label                                               text\n",
       "0              0  Psoriasis  I have been experiencing a skin rash on my arm...\n",
       "1              1  Psoriasis  My skin has been peeling, especially on my kne...\n",
       "2              2  Psoriasis  I have been experiencing joint pain in my fing...\n",
       "3              3  Psoriasis  There is a silver like dusting on my skin, esp...\n",
       "4              4  Psoriasis  My nails have small dents or pits in them, and...\n",
       "...          ...        ...                                                ...\n",
       "1195         295   diabetes  I'm shaking and trembling all over. I've lost ...\n",
       "1196         296   diabetes  Particularly in the crevices of my skin, I hav...\n",
       "1197         297   diabetes  I regularly experience these intense urges and...\n",
       "1198         298   diabetes  I have trouble breathing, especially outside. ...\n",
       "1199         299   diabetes  I constantly sneeze and have a dry cough. My i...\n",
       "\n",
       "[1200 rows x 3 columns]"
      ]
     },
     "execution_count": 4,
     "metadata": {},
     "output_type": "execute_result"
    }
   ],
   "source": [
    "df = pd.read_csv('Symptom2Disease.csv')\n",
    "df"
   ]
  },
  {
   "cell_type": "code",
   "execution_count": 5,
   "id": "9667629f",
   "metadata": {},
   "outputs": [],
   "source": [
    "df.drop(columns='Unnamed: 0', inplace=True)"
   ]
  },
  {
   "cell_type": "code",
   "execution_count": 6,
   "id": "40ff0648",
   "metadata": {},
   "outputs": [
    {
     "data": {
      "text/plain": [
       "array(['Psoriasis', 'Varicose Veins', 'Typhoid', 'Chicken pox',\n",
       "       'Impetigo', 'Dengue', 'Fungal infection', 'Common Cold',\n",
       "       'Pneumonia', 'Dimorphic Hemorrhoids', 'Arthritis', 'Acne',\n",
       "       'Bronchial Asthma', 'Hypertension', 'Migraine',\n",
       "       'Cervical spondylosis', 'Jaundice', 'Malaria',\n",
       "       'urinary tract infection', 'allergy',\n",
       "       'gastroesophageal reflux disease', 'drug reaction',\n",
       "       'peptic ulcer disease', 'diabetes'], dtype=object)"
      ]
     },
     "execution_count": 6,
     "metadata": {},
     "output_type": "execute_result"
    }
   ],
   "source": [
    "df.label.unique()"
   ]
  },
  {
   "cell_type": "code",
   "execution_count": 7,
   "id": "07439f77",
   "metadata": {},
   "outputs": [
    {
     "data": {
      "text/html": [
       "<div>\n",
       "<style scoped>\n",
       "    .dataframe tbody tr th:only-of-type {\n",
       "        vertical-align: middle;\n",
       "    }\n",
       "\n",
       "    .dataframe tbody tr th {\n",
       "        vertical-align: top;\n",
       "    }\n",
       "\n",
       "    .dataframe thead th {\n",
       "        text-align: right;\n",
       "    }\n",
       "</style>\n",
       "<table border=\"1\" class=\"dataframe\">\n",
       "  <thead>\n",
       "    <tr style=\"text-align: right;\">\n",
       "      <th></th>\n",
       "      <th>label</th>\n",
       "      <th>text</th>\n",
       "      <th>label_num</th>\n",
       "    </tr>\n",
       "  </thead>\n",
       "  <tbody>\n",
       "    <tr>\n",
       "      <th>0</th>\n",
       "      <td>Psoriasis</td>\n",
       "      <td>I have been experiencing a skin rash on my arm...</td>\n",
       "      <td>15</td>\n",
       "    </tr>\n",
       "    <tr>\n",
       "      <th>1</th>\n",
       "      <td>Psoriasis</td>\n",
       "      <td>My skin has been peeling, especially on my kne...</td>\n",
       "      <td>15</td>\n",
       "    </tr>\n",
       "    <tr>\n",
       "      <th>2</th>\n",
       "      <td>Psoriasis</td>\n",
       "      <td>I have been experiencing joint pain in my fing...</td>\n",
       "      <td>15</td>\n",
       "    </tr>\n",
       "    <tr>\n",
       "      <th>3</th>\n",
       "      <td>Psoriasis</td>\n",
       "      <td>There is a silver like dusting on my skin, esp...</td>\n",
       "      <td>15</td>\n",
       "    </tr>\n",
       "    <tr>\n",
       "      <th>4</th>\n",
       "      <td>Psoriasis</td>\n",
       "      <td>My nails have small dents or pits in them, and...</td>\n",
       "      <td>15</td>\n",
       "    </tr>\n",
       "    <tr>\n",
       "      <th>...</th>\n",
       "      <td>...</td>\n",
       "      <td>...</td>\n",
       "      <td>...</td>\n",
       "    </tr>\n",
       "    <tr>\n",
       "      <th>1195</th>\n",
       "      <td>diabetes</td>\n",
       "      <td>I'm shaking and trembling all over. I've lost ...</td>\n",
       "      <td>19</td>\n",
       "    </tr>\n",
       "    <tr>\n",
       "      <th>1196</th>\n",
       "      <td>diabetes</td>\n",
       "      <td>Particularly in the crevices of my skin, I hav...</td>\n",
       "      <td>19</td>\n",
       "    </tr>\n",
       "    <tr>\n",
       "      <th>1197</th>\n",
       "      <td>diabetes</td>\n",
       "      <td>I regularly experience these intense urges and...</td>\n",
       "      <td>19</td>\n",
       "    </tr>\n",
       "    <tr>\n",
       "      <th>1198</th>\n",
       "      <td>diabetes</td>\n",
       "      <td>I have trouble breathing, especially outside. ...</td>\n",
       "      <td>19</td>\n",
       "    </tr>\n",
       "    <tr>\n",
       "      <th>1199</th>\n",
       "      <td>diabetes</td>\n",
       "      <td>I constantly sneeze and have a dry cough. My i...</td>\n",
       "      <td>19</td>\n",
       "    </tr>\n",
       "  </tbody>\n",
       "</table>\n",
       "<p>1200 rows × 3 columns</p>\n",
       "</div>"
      ],
      "text/plain": [
       "          label                                               text  label_num\n",
       "0     Psoriasis  I have been experiencing a skin rash on my arm...         15\n",
       "1     Psoriasis  My skin has been peeling, especially on my kne...         15\n",
       "2     Psoriasis  I have been experiencing joint pain in my fing...         15\n",
       "3     Psoriasis  There is a silver like dusting on my skin, esp...         15\n",
       "4     Psoriasis  My nails have small dents or pits in them, and...         15\n",
       "...         ...                                                ...        ...\n",
       "1195   diabetes  I'm shaking and trembling all over. I've lost ...         19\n",
       "1196   diabetes  Particularly in the crevices of my skin, I hav...         19\n",
       "1197   diabetes  I regularly experience these intense urges and...         19\n",
       "1198   diabetes  I have trouble breathing, especially outside. ...         19\n",
       "1199   diabetes  I constantly sneeze and have a dry cough. My i...         19\n",
       "\n",
       "[1200 rows x 3 columns]"
      ]
     },
     "execution_count": 7,
     "metadata": {},
     "output_type": "execute_result"
    }
   ],
   "source": [
    "from sklearn.preprocessing import LabelEncoder\n",
    "le = LabelEncoder()\n",
    "df['label_num'] = le.fit_transform(df['label'])\n",
    "df"
   ]
  },
  {
   "cell_type": "code",
   "execution_count": 8,
   "id": "66facce3",
   "metadata": {},
   "outputs": [
    {
     "data": {
      "text/plain": [
       "array([ 0,  1,  2,  3,  4,  5,  6,  7,  8,  9, 10, 11, 12, 13, 14, 15, 16,\n",
       "       17, 18, 19, 20, 21, 22, 23])"
      ]
     },
     "execution_count": 8,
     "metadata": {},
     "output_type": "execute_result"
    }
   ],
   "source": [
    "df.label_num.sort_values().unique()"
   ]
  },
  {
   "cell_type": "markdown",
   "id": "3604e122",
   "metadata": {},
   "source": [
    "# Text Preprocessing"
   ]
  },
  {
   "cell_type": "code",
   "execution_count": 9,
   "id": "e594cff9",
   "metadata": {},
   "outputs": [],
   "source": [
    "import spacy\n",
    "from spacy.lang.en import STOP_WORDS\n",
    "nlp = spacy.load(\"en_core_web_lg\")"
   ]
  },
  {
   "cell_type": "code",
   "execution_count": 10,
   "id": "2efc2b4e",
   "metadata": {},
   "outputs": [
    {
     "data": {
      "text/plain": [
       "\"I'm having joint discomfort in my fingers, wrists, and knees. The pain is frequently aching and throbbing, and it worsens when I move my joints.\""
      ]
     },
     "execution_count": 10,
     "metadata": {},
     "output_type": "execute_result"
    }
   ],
   "source": [
    "df.text[23]"
   ]
  },
  {
   "cell_type": "code",
   "execution_count": 11,
   "id": "ac9da13c",
   "metadata": {},
   "outputs": [
    {
     "data": {
      "text/plain": [
       "{\"'d\",\n",
       " \"'ll\",\n",
       " \"'m\",\n",
       " \"'re\",\n",
       " \"'s\",\n",
       " \"'ve\",\n",
       " 'a',\n",
       " 'about',\n",
       " 'above',\n",
       " 'across',\n",
       " 'after',\n",
       " 'afterwards',\n",
       " 'again',\n",
       " 'against',\n",
       " 'all',\n",
       " 'almost',\n",
       " 'alone',\n",
       " 'along',\n",
       " 'already',\n",
       " 'also',\n",
       " 'although',\n",
       " 'always',\n",
       " 'am',\n",
       " 'among',\n",
       " 'amongst',\n",
       " 'amount',\n",
       " 'an',\n",
       " 'and',\n",
       " 'another',\n",
       " 'any',\n",
       " 'anyhow',\n",
       " 'anyone',\n",
       " 'anything',\n",
       " 'anyway',\n",
       " 'anywhere',\n",
       " 'are',\n",
       " 'around',\n",
       " 'as',\n",
       " 'at',\n",
       " 'back',\n",
       " 'be',\n",
       " 'became',\n",
       " 'because',\n",
       " 'become',\n",
       " 'becomes',\n",
       " 'becoming',\n",
       " 'been',\n",
       " 'before',\n",
       " 'beforehand',\n",
       " 'behind',\n",
       " 'being',\n",
       " 'below',\n",
       " 'beside',\n",
       " 'besides',\n",
       " 'between',\n",
       " 'beyond',\n",
       " 'both',\n",
       " 'bottom',\n",
       " 'but',\n",
       " 'by',\n",
       " 'ca',\n",
       " 'call',\n",
       " 'can',\n",
       " 'cannot',\n",
       " 'could',\n",
       " 'did',\n",
       " 'do',\n",
       " 'does',\n",
       " 'doing',\n",
       " 'done',\n",
       " 'down',\n",
       " 'due',\n",
       " 'during',\n",
       " 'each',\n",
       " 'eight',\n",
       " 'either',\n",
       " 'eleven',\n",
       " 'else',\n",
       " 'elsewhere',\n",
       " 'empty',\n",
       " 'enough',\n",
       " 'even',\n",
       " 'ever',\n",
       " 'every',\n",
       " 'everyone',\n",
       " 'everything',\n",
       " 'everywhere',\n",
       " 'except',\n",
       " 'few',\n",
       " 'fifteen',\n",
       " 'fifty',\n",
       " 'first',\n",
       " 'five',\n",
       " 'for',\n",
       " 'former',\n",
       " 'formerly',\n",
       " 'forty',\n",
       " 'four',\n",
       " 'from',\n",
       " 'front',\n",
       " 'full',\n",
       " 'further',\n",
       " 'get',\n",
       " 'give',\n",
       " 'go',\n",
       " 'had',\n",
       " 'has',\n",
       " 'have',\n",
       " 'he',\n",
       " 'hence',\n",
       " 'her',\n",
       " 'here',\n",
       " 'hereafter',\n",
       " 'hereby',\n",
       " 'herein',\n",
       " 'hereupon',\n",
       " 'hers',\n",
       " 'herself',\n",
       " 'him',\n",
       " 'himself',\n",
       " 'his',\n",
       " 'how',\n",
       " 'however',\n",
       " 'hundred',\n",
       " 'i',\n",
       " 'if',\n",
       " 'in',\n",
       " 'indeed',\n",
       " 'into',\n",
       " 'is',\n",
       " 'it',\n",
       " 'its',\n",
       " 'itself',\n",
       " 'just',\n",
       " 'keep',\n",
       " 'last',\n",
       " 'latter',\n",
       " 'latterly',\n",
       " 'least',\n",
       " 'less',\n",
       " 'made',\n",
       " 'make',\n",
       " 'many',\n",
       " 'may',\n",
       " 'me',\n",
       " 'meanwhile',\n",
       " 'might',\n",
       " 'mine',\n",
       " 'more',\n",
       " 'moreover',\n",
       " 'most',\n",
       " 'mostly',\n",
       " 'move',\n",
       " 'much',\n",
       " 'must',\n",
       " 'my',\n",
       " 'myself',\n",
       " \"n't\",\n",
       " 'name',\n",
       " 'namely',\n",
       " 'neither',\n",
       " 'never',\n",
       " 'nevertheless',\n",
       " 'next',\n",
       " 'nine',\n",
       " 'no',\n",
       " 'nobody',\n",
       " 'none',\n",
       " 'noone',\n",
       " 'nor',\n",
       " 'not',\n",
       " 'nothing',\n",
       " 'now',\n",
       " 'nowhere',\n",
       " 'n‘t',\n",
       " 'n’t',\n",
       " 'of',\n",
       " 'off',\n",
       " 'often',\n",
       " 'on',\n",
       " 'once',\n",
       " 'one',\n",
       " 'only',\n",
       " 'onto',\n",
       " 'or',\n",
       " 'other',\n",
       " 'others',\n",
       " 'otherwise',\n",
       " 'our',\n",
       " 'ours',\n",
       " 'ourselves',\n",
       " 'out',\n",
       " 'over',\n",
       " 'own',\n",
       " 'part',\n",
       " 'per',\n",
       " 'perhaps',\n",
       " 'please',\n",
       " 'put',\n",
       " 'quite',\n",
       " 'rather',\n",
       " 're',\n",
       " 'really',\n",
       " 'regarding',\n",
       " 'same',\n",
       " 'say',\n",
       " 'see',\n",
       " 'seem',\n",
       " 'seemed',\n",
       " 'seeming',\n",
       " 'seems',\n",
       " 'serious',\n",
       " 'several',\n",
       " 'she',\n",
       " 'should',\n",
       " 'show',\n",
       " 'side',\n",
       " 'since',\n",
       " 'six',\n",
       " 'sixty',\n",
       " 'so',\n",
       " 'some',\n",
       " 'somehow',\n",
       " 'someone',\n",
       " 'something',\n",
       " 'sometime',\n",
       " 'sometimes',\n",
       " 'somewhere',\n",
       " 'still',\n",
       " 'such',\n",
       " 'take',\n",
       " 'ten',\n",
       " 'than',\n",
       " 'that',\n",
       " 'the',\n",
       " 'their',\n",
       " 'them',\n",
       " 'themselves',\n",
       " 'then',\n",
       " 'thence',\n",
       " 'there',\n",
       " 'thereafter',\n",
       " 'thereby',\n",
       " 'therefore',\n",
       " 'therein',\n",
       " 'thereupon',\n",
       " 'these',\n",
       " 'they',\n",
       " 'third',\n",
       " 'this',\n",
       " 'those',\n",
       " 'though',\n",
       " 'three',\n",
       " 'through',\n",
       " 'throughout',\n",
       " 'thru',\n",
       " 'thus',\n",
       " 'to',\n",
       " 'together',\n",
       " 'too',\n",
       " 'top',\n",
       " 'toward',\n",
       " 'towards',\n",
       " 'twelve',\n",
       " 'twenty',\n",
       " 'two',\n",
       " 'under',\n",
       " 'unless',\n",
       " 'until',\n",
       " 'up',\n",
       " 'upon',\n",
       " 'us',\n",
       " 'used',\n",
       " 'using',\n",
       " 'various',\n",
       " 'very',\n",
       " 'via',\n",
       " 'was',\n",
       " 'we',\n",
       " 'well',\n",
       " 'were',\n",
       " 'what',\n",
       " 'whatever',\n",
       " 'when',\n",
       " 'whence',\n",
       " 'whenever',\n",
       " 'where',\n",
       " 'whereafter',\n",
       " 'whereas',\n",
       " 'whereby',\n",
       " 'wherein',\n",
       " 'whereupon',\n",
       " 'wherever',\n",
       " 'whether',\n",
       " 'which',\n",
       " 'while',\n",
       " 'whither',\n",
       " 'who',\n",
       " 'whoever',\n",
       " 'whole',\n",
       " 'whom',\n",
       " 'whose',\n",
       " 'why',\n",
       " 'will',\n",
       " 'with',\n",
       " 'within',\n",
       " 'without',\n",
       " 'would',\n",
       " 'yet',\n",
       " 'you',\n",
       " 'your',\n",
       " 'yours',\n",
       " 'yourself',\n",
       " 'yourselves',\n",
       " '‘d',\n",
       " '‘ll',\n",
       " '‘m',\n",
       " '‘re',\n",
       " '‘s',\n",
       " '‘ve',\n",
       " '’d',\n",
       " '’ll',\n",
       " '’m',\n",
       " '’re',\n",
       " '’s',\n",
       " '’ve'}"
      ]
     },
     "execution_count": 11,
     "metadata": {},
     "output_type": "execute_result"
    }
   ],
   "source": [
    "STOP_WORDS"
   ]
  },
  {
   "cell_type": "code",
   "execution_count": 12,
   "id": "c64c5d36",
   "metadata": {},
   "outputs": [],
   "source": [
    "def preprocess(text):\n",
    "    list=[]\n",
    "    for token in nlp(text):\n",
    "        if token.is_punct or token.is_punct:\n",
    "            continue\n",
    "        list.append(token.lemma_.lower())\n",
    "    list = [token for token in list if not token in STOP_WORDS]\n",
    "    return ' '.join(list)"
   ]
  },
  {
   "cell_type": "code",
   "execution_count": 13,
   "id": "4d94497f",
   "metadata": {},
   "outputs": [
    {
     "data": {
      "text/plain": [
       "'joint discomfort finger wrist knee pain frequently ache throbbing worsen joint'"
      ]
     },
     "execution_count": 13,
     "metadata": {},
     "output_type": "execute_result"
    }
   ],
   "source": [
    "preprocess(df.text[23])\n"
   ]
  },
  {
   "cell_type": "code",
   "execution_count": 14,
   "id": "f8d3a5e7",
   "metadata": {},
   "outputs": [],
   "source": [
    "df['preprocessed'] = df['text'].apply(preprocess)"
   ]
  },
  {
   "cell_type": "code",
   "execution_count": 15,
   "id": "3e32913e",
   "metadata": {},
   "outputs": [
    {
     "data": {
      "text/html": [
       "<div>\n",
       "<style scoped>\n",
       "    .dataframe tbody tr th:only-of-type {\n",
       "        vertical-align: middle;\n",
       "    }\n",
       "\n",
       "    .dataframe tbody tr th {\n",
       "        vertical-align: top;\n",
       "    }\n",
       "\n",
       "    .dataframe thead th {\n",
       "        text-align: right;\n",
       "    }\n",
       "</style>\n",
       "<table border=\"1\" class=\"dataframe\">\n",
       "  <thead>\n",
       "    <tr style=\"text-align: right;\">\n",
       "      <th></th>\n",
       "      <th>label</th>\n",
       "      <th>text</th>\n",
       "      <th>label_num</th>\n",
       "      <th>preprocessed</th>\n",
       "    </tr>\n",
       "  </thead>\n",
       "  <tbody>\n",
       "    <tr>\n",
       "      <th>0</th>\n",
       "      <td>Psoriasis</td>\n",
       "      <td>I have been experiencing a skin rash on my arm...</td>\n",
       "      <td>15</td>\n",
       "      <td>experience skin rash arm leg torso past week r...</td>\n",
       "    </tr>\n",
       "    <tr>\n",
       "      <th>1</th>\n",
       "      <td>Psoriasis</td>\n",
       "      <td>My skin has been peeling, especially on my kne...</td>\n",
       "      <td>15</td>\n",
       "      <td>skin peel especially knee elbow scalp peeling ...</td>\n",
       "    </tr>\n",
       "    <tr>\n",
       "      <th>2</th>\n",
       "      <td>Psoriasis</td>\n",
       "      <td>I have been experiencing joint pain in my fing...</td>\n",
       "      <td>15</td>\n",
       "      <td>experience joint pain finger wrist knee pain a...</td>\n",
       "    </tr>\n",
       "    <tr>\n",
       "      <th>3</th>\n",
       "      <td>Psoriasis</td>\n",
       "      <td>There is a silver like dusting on my skin, esp...</td>\n",
       "      <td>15</td>\n",
       "      <td>silver like dust skin especially low scalp dus...</td>\n",
       "    </tr>\n",
       "    <tr>\n",
       "      <th>4</th>\n",
       "      <td>Psoriasis</td>\n",
       "      <td>My nails have small dents or pits in them, and...</td>\n",
       "      <td>15</td>\n",
       "      <td>nail small dent pit feel inflammatory tender t...</td>\n",
       "    </tr>\n",
       "  </tbody>\n",
       "</table>\n",
       "</div>"
      ],
      "text/plain": [
       "       label                                               text  label_num   \n",
       "0  Psoriasis  I have been experiencing a skin rash on my arm...         15  \\\n",
       "1  Psoriasis  My skin has been peeling, especially on my kne...         15   \n",
       "2  Psoriasis  I have been experiencing joint pain in my fing...         15   \n",
       "3  Psoriasis  There is a silver like dusting on my skin, esp...         15   \n",
       "4  Psoriasis  My nails have small dents or pits in them, and...         15   \n",
       "\n",
       "                                        preprocessed  \n",
       "0  experience skin rash arm leg torso past week r...  \n",
       "1  skin peel especially knee elbow scalp peeling ...  \n",
       "2  experience joint pain finger wrist knee pain a...  \n",
       "3  silver like dust skin especially low scalp dus...  \n",
       "4  nail small dent pit feel inflammatory tender t...  "
      ]
     },
     "execution_count": 15,
     "metadata": {},
     "output_type": "execute_result"
    }
   ],
   "source": [
    "df.head()"
   ]
  },
  {
   "cell_type": "code",
   "execution_count": null,
   "id": "8b23666e",
   "metadata": {
    "scrolled": true
   },
   "outputs": [],
   "source": []
  },
  {
   "cell_type": "code",
   "execution_count": 16,
   "id": "c52e0171",
   "metadata": {},
   "outputs": [],
   "source": [
    "df['vector'] = df.preprocessed.apply(lambda text: nlp(text).vector)"
   ]
  },
  {
   "cell_type": "markdown",
   "id": "5f39d1a3",
   "metadata": {},
   "source": [
    "from sklearn.preprocessing import MinMaxScaler\n",
    "\n",
    "scaler = MinMaxScaler()\n",
    "\n",
    "\n",
    "a = preprocess(df.text[13])\n",
    "a = nlp(a).vector\n",
    "a = a.reshape(-1,1)\n",
    "scaler1 = MinMaxScaler()\n",
    "a_scaled = scaler1.fit_transform(a)\n",
    "a_scaled = a_scaled.reshape(1,-1)\n",
    "\n",
    "def vector_scaler(x):\n",
    "    x = x.reshape(-1,1)\n",
    "    x = scaler.fit_transform(x)\n",
    "    \n",
    "    x = x.reshape(1,-1)\n",
    "    return x[0]\n",
    "\n",
    "\n",
    "df['scaled_vector'] = df['vector'].apply(vector_scaler)"
   ]
  },
  {
   "cell_type": "code",
   "execution_count": 18,
   "id": "08ddc28c",
   "metadata": {},
   "outputs": [],
   "source": [
    "#df = df.drop(columns=['scaled_vector'])"
   ]
  },
  {
   "cell_type": "code",
   "execution_count": 19,
   "id": "ea14e8e4",
   "metadata": {},
   "outputs": [
    {
     "data": {
      "text/html": [
       "<div>\n",
       "<style scoped>\n",
       "    .dataframe tbody tr th:only-of-type {\n",
       "        vertical-align: middle;\n",
       "    }\n",
       "\n",
       "    .dataframe tbody tr th {\n",
       "        vertical-align: top;\n",
       "    }\n",
       "\n",
       "    .dataframe thead th {\n",
       "        text-align: right;\n",
       "    }\n",
       "</style>\n",
       "<table border=\"1\" class=\"dataframe\">\n",
       "  <thead>\n",
       "    <tr style=\"text-align: right;\">\n",
       "      <th></th>\n",
       "      <th>label</th>\n",
       "      <th>text</th>\n",
       "      <th>label_num</th>\n",
       "      <th>preprocessed</th>\n",
       "      <th>vector</th>\n",
       "    </tr>\n",
       "  </thead>\n",
       "  <tbody>\n",
       "    <tr>\n",
       "      <th>0</th>\n",
       "      <td>Psoriasis</td>\n",
       "      <td>I have been experiencing a skin rash on my arm...</td>\n",
       "      <td>15</td>\n",
       "      <td>experience skin rash arm leg torso past week r...</td>\n",
       "      <td>[1.2192994, 2.8289015, -2.2025487, 1.1896608, ...</td>\n",
       "    </tr>\n",
       "    <tr>\n",
       "      <th>1</th>\n",
       "      <td>Psoriasis</td>\n",
       "      <td>My skin has been peeling, especially on my kne...</td>\n",
       "      <td>15</td>\n",
       "      <td>skin peel especially knee elbow scalp peeling ...</td>\n",
       "      <td>[0.97605723, 0.94874, -1.1472255, 0.7280576, 0...</td>\n",
       "    </tr>\n",
       "    <tr>\n",
       "      <th>2</th>\n",
       "      <td>Psoriasis</td>\n",
       "      <td>I have been experiencing joint pain in my fing...</td>\n",
       "      <td>15</td>\n",
       "      <td>experience joint pain finger wrist knee pain a...</td>\n",
       "      <td>[2.2577019, 1.5144299, -1.6759292, 1.1042774, ...</td>\n",
       "    </tr>\n",
       "    <tr>\n",
       "      <th>3</th>\n",
       "      <td>Psoriasis</td>\n",
       "      <td>There is a silver like dusting on my skin, esp...</td>\n",
       "      <td>15</td>\n",
       "      <td>silver like dust skin especially low scalp dus...</td>\n",
       "      <td>[0.25079936, 0.6398691, -2.6605594, 1.2761254,...</td>\n",
       "    </tr>\n",
       "    <tr>\n",
       "      <th>4</th>\n",
       "      <td>Psoriasis</td>\n",
       "      <td>My nails have small dents or pits in them, and...</td>\n",
       "      <td>15</td>\n",
       "      <td>nail small dent pit feel inflammatory tender t...</td>\n",
       "      <td>[0.9336986, 2.1108358, -1.6974756, -0.28041342...</td>\n",
       "    </tr>\n",
       "  </tbody>\n",
       "</table>\n",
       "</div>"
      ],
      "text/plain": [
       "       label                                               text  label_num   \n",
       "0  Psoriasis  I have been experiencing a skin rash on my arm...         15  \\\n",
       "1  Psoriasis  My skin has been peeling, especially on my kne...         15   \n",
       "2  Psoriasis  I have been experiencing joint pain in my fing...         15   \n",
       "3  Psoriasis  There is a silver like dusting on my skin, esp...         15   \n",
       "4  Psoriasis  My nails have small dents or pits in them, and...         15   \n",
       "\n",
       "                                        preprocessed   \n",
       "0  experience skin rash arm leg torso past week r...  \\\n",
       "1  skin peel especially knee elbow scalp peeling ...   \n",
       "2  experience joint pain finger wrist knee pain a...   \n",
       "3  silver like dust skin especially low scalp dus...   \n",
       "4  nail small dent pit feel inflammatory tender t...   \n",
       "\n",
       "                                              vector  \n",
       "0  [1.2192994, 2.8289015, -2.2025487, 1.1896608, ...  \n",
       "1  [0.97605723, 0.94874, -1.1472255, 0.7280576, 0...  \n",
       "2  [2.2577019, 1.5144299, -1.6759292, 1.1042774, ...  \n",
       "3  [0.25079936, 0.6398691, -2.6605594, 1.2761254,...  \n",
       "4  [0.9336986, 2.1108358, -1.6974756, -0.28041342...  "
      ]
     },
     "execution_count": 19,
     "metadata": {},
     "output_type": "execute_result"
    }
   ],
   "source": [
    "df.head()"
   ]
  },
  {
   "cell_type": "code",
   "execution_count": 22,
   "id": "71865158",
   "metadata": {
    "scrolled": true
   },
   "outputs": [],
   "source": [
    "#df.scaled_vector.values"
   ]
  },
  {
   "cell_type": "code",
   "execution_count": 80,
   "id": "3b2af46c",
   "metadata": {},
   "outputs": [],
   "source": [
    "from sklearn.model_selection import train_test_split\n",
    "X_train, X_test, y_train, y_test = train_test_split(df['vector'].values, df['label_num'], test_size=0.30,random_state=31, stratify=df['label_num'])"
   ]
  },
  {
   "cell_type": "code",
   "execution_count": 81,
   "id": "8578a325",
   "metadata": {},
   "outputs": [
    {
     "data": {
      "text/plain": [
       "(840, 300)"
      ]
     },
     "execution_count": 81,
     "metadata": {},
     "output_type": "execute_result"
    }
   ],
   "source": [
    "np.stack(X_train).shape"
   ]
  },
  {
   "cell_type": "code",
   "execution_count": 82,
   "id": "de39a251",
   "metadata": {},
   "outputs": [
    {
     "data": {
      "text/plain": [
       "(840,)"
      ]
     },
     "execution_count": 82,
     "metadata": {},
     "output_type": "execute_result"
    }
   ],
   "source": [
    "X_train.shape"
   ]
  },
  {
   "cell_type": "markdown",
   "id": "057dd1c9",
   "metadata": {},
   "source": [
    "## Scaling Data"
   ]
  },
  {
   "cell_type": "code",
   "execution_count": 83,
   "id": "1aa5f258",
   "metadata": {},
   "outputs": [],
   "source": [
    "X_train_2d = np.stack(X_train)\n",
    "X_test_2d = np.stack(X_test)"
   ]
  },
  {
   "cell_type": "code",
   "execution_count": 84,
   "id": "e8c856d2",
   "metadata": {},
   "outputs": [],
   "source": [
    "from sklearn.preprocessing import MinMaxScaler\n",
    "\n",
    "scaler = MinMaxScaler()\n",
    "\n",
    "X_train_scaled = scaler.fit_transform(X_train_2d)\n",
    "X_test_scaled = scaler.fit_transform(X_test_2d)"
   ]
  },
  {
   "cell_type": "code",
   "execution_count": 85,
   "id": "1f74e3ae",
   "metadata": {
    "scrolled": false
   },
   "outputs": [
    {
     "data": {
      "text/plain": [
       "array([[ 0.5248093 ,  0.88541573, -1.9757876 , ..., -0.5675956 ,\n",
       "        -2.077172  ,  0.71562886],\n",
       "       [ 0.09739667,  0.8820397 , -3.392483  , ...,  3.3744166 ,\n",
       "        -3.86465   ,  1.4360971 ],\n",
       "       [ 0.79606783,  1.6717408 , -1.2857136 , ..., -0.5616628 ,\n",
       "        -0.12039505,  0.7724622 ],\n",
       "       ...,\n",
       "       [ 1.4626877 ,  0.62619555, -2.6090608 , ...,  2.5066829 ,\n",
       "        -2.9071958 ,  1.7713352 ],\n",
       "       [ 1.3004969 ,  2.1396036 , -2.5377662 , ..., -0.803879  ,\n",
       "        -1.6257222 ,  0.2903145 ],\n",
       "       [ 0.6010589 ,  1.779762  , -1.4526945 , ..., -1.9304212 ,\n",
       "         0.517631  ,  1.1158601 ]], dtype=float32)"
      ]
     },
     "execution_count": 85,
     "metadata": {},
     "output_type": "execute_result"
    }
   ],
   "source": [
    "X_train_2d"
   ]
  },
  {
   "cell_type": "markdown",
   "id": "93ff2182",
   "metadata": {},
   "source": [
    "## Using Naive Bayesian"
   ]
  },
  {
   "cell_type": "code",
   "execution_count": 86,
   "id": "35449147",
   "metadata": {},
   "outputs": [],
   "source": [
    "from sklearn.naive_bayes import GaussianNB"
   ]
  },
  {
   "cell_type": "code",
   "execution_count": 87,
   "id": "77a302b9",
   "metadata": {},
   "outputs": [],
   "source": [
    "nbModel = GaussianNB()"
   ]
  },
  {
   "cell_type": "code",
   "execution_count": 88,
   "id": "c7728816",
   "metadata": {},
   "outputs": [
    {
     "data": {
      "text/html": [
       "<style>#sk-container-id-8 {color: black;background-color: white;}#sk-container-id-8 pre{padding: 0;}#sk-container-id-8 div.sk-toggleable {background-color: white;}#sk-container-id-8 label.sk-toggleable__label {cursor: pointer;display: block;width: 100%;margin-bottom: 0;padding: 0.3em;box-sizing: border-box;text-align: center;}#sk-container-id-8 label.sk-toggleable__label-arrow:before {content: \"▸\";float: left;margin-right: 0.25em;color: #696969;}#sk-container-id-8 label.sk-toggleable__label-arrow:hover:before {color: black;}#sk-container-id-8 div.sk-estimator:hover label.sk-toggleable__label-arrow:before {color: black;}#sk-container-id-8 div.sk-toggleable__content {max-height: 0;max-width: 0;overflow: hidden;text-align: left;background-color: #f0f8ff;}#sk-container-id-8 div.sk-toggleable__content pre {margin: 0.2em;color: black;border-radius: 0.25em;background-color: #f0f8ff;}#sk-container-id-8 input.sk-toggleable__control:checked~div.sk-toggleable__content {max-height: 200px;max-width: 100%;overflow: auto;}#sk-container-id-8 input.sk-toggleable__control:checked~label.sk-toggleable__label-arrow:before {content: \"▾\";}#sk-container-id-8 div.sk-estimator input.sk-toggleable__control:checked~label.sk-toggleable__label {background-color: #d4ebff;}#sk-container-id-8 div.sk-label input.sk-toggleable__control:checked~label.sk-toggleable__label {background-color: #d4ebff;}#sk-container-id-8 input.sk-hidden--visually {border: 0;clip: rect(1px 1px 1px 1px);clip: rect(1px, 1px, 1px, 1px);height: 1px;margin: -1px;overflow: hidden;padding: 0;position: absolute;width: 1px;}#sk-container-id-8 div.sk-estimator {font-family: monospace;background-color: #f0f8ff;border: 1px dotted black;border-radius: 0.25em;box-sizing: border-box;margin-bottom: 0.5em;}#sk-container-id-8 div.sk-estimator:hover {background-color: #d4ebff;}#sk-container-id-8 div.sk-parallel-item::after {content: \"\";width: 100%;border-bottom: 1px solid gray;flex-grow: 1;}#sk-container-id-8 div.sk-label:hover label.sk-toggleable__label {background-color: #d4ebff;}#sk-container-id-8 div.sk-serial::before {content: \"\";position: absolute;border-left: 1px solid gray;box-sizing: border-box;top: 0;bottom: 0;left: 50%;z-index: 0;}#sk-container-id-8 div.sk-serial {display: flex;flex-direction: column;align-items: center;background-color: white;padding-right: 0.2em;padding-left: 0.2em;position: relative;}#sk-container-id-8 div.sk-item {position: relative;z-index: 1;}#sk-container-id-8 div.sk-parallel {display: flex;align-items: stretch;justify-content: center;background-color: white;position: relative;}#sk-container-id-8 div.sk-item::before, #sk-container-id-8 div.sk-parallel-item::before {content: \"\";position: absolute;border-left: 1px solid gray;box-sizing: border-box;top: 0;bottom: 0;left: 50%;z-index: -1;}#sk-container-id-8 div.sk-parallel-item {display: flex;flex-direction: column;z-index: 1;position: relative;background-color: white;}#sk-container-id-8 div.sk-parallel-item:first-child::after {align-self: flex-end;width: 50%;}#sk-container-id-8 div.sk-parallel-item:last-child::after {align-self: flex-start;width: 50%;}#sk-container-id-8 div.sk-parallel-item:only-child::after {width: 0;}#sk-container-id-8 div.sk-dashed-wrapped {border: 1px dashed gray;margin: 0 0.4em 0.5em 0.4em;box-sizing: border-box;padding-bottom: 0.4em;background-color: white;}#sk-container-id-8 div.sk-label label {font-family: monospace;font-weight: bold;display: inline-block;line-height: 1.2em;}#sk-container-id-8 div.sk-label-container {text-align: center;}#sk-container-id-8 div.sk-container {/* jupyter's `normalize.less` sets `[hidden] { display: none; }` but bootstrap.min.css set `[hidden] { display: none !important; }` so we also need the `!important` here to be able to override the default hidden behavior on the sphinx rendered scikit-learn.org. See: https://github.com/scikit-learn/scikit-learn/issues/21755 */display: inline-block !important;position: relative;}#sk-container-id-8 div.sk-text-repr-fallback {display: none;}</style><div id=\"sk-container-id-8\" class=\"sk-top-container\"><div class=\"sk-text-repr-fallback\"><pre>GaussianNB()</pre><b>In a Jupyter environment, please rerun this cell to show the HTML representation or trust the notebook. <br />On GitHub, the HTML representation is unable to render, please try loading this page with nbviewer.org.</b></div><div class=\"sk-container\" hidden><div class=\"sk-item\"><div class=\"sk-estimator sk-toggleable\"><input class=\"sk-toggleable__control sk-hidden--visually\" id=\"sk-estimator-id-8\" type=\"checkbox\" checked><label for=\"sk-estimator-id-8\" class=\"sk-toggleable__label sk-toggleable__label-arrow\">GaussianNB</label><div class=\"sk-toggleable__content\"><pre>GaussianNB()</pre></div></div></div></div></div>"
      ],
      "text/plain": [
       "GaussianNB()"
      ]
     },
     "execution_count": 88,
     "metadata": {},
     "output_type": "execute_result"
    }
   ],
   "source": [
    "nbModel.fit(X_train_scaled,y_train)"
   ]
  },
  {
   "cell_type": "code",
   "execution_count": 89,
   "id": "fc8904bf",
   "metadata": {},
   "outputs": [
    {
     "data": {
      "text/plain": [
       "0.6694444444444444"
      ]
     },
     "execution_count": 89,
     "metadata": {},
     "output_type": "execute_result"
    }
   ],
   "source": [
    "nbModel.score(X_test_scaled,y_test)"
   ]
  },
  {
   "cell_type": "code",
   "execution_count": null,
   "id": "33c338e9",
   "metadata": {},
   "outputs": [],
   "source": [
    "\n"
   ]
  },
  {
   "cell_type": "code",
   "execution_count": null,
   "id": "8f839167",
   "metadata": {},
   "outputs": [],
   "source": []
  },
  {
   "cell_type": "code",
   "execution_count": 90,
   "id": "bcab6226",
   "metadata": {},
   "outputs": [],
   "source": [
    "from sklearn.naive_bayes import BernoulliNB"
   ]
  },
  {
   "cell_type": "code",
   "execution_count": 91,
   "id": "e3912094",
   "metadata": {},
   "outputs": [],
   "source": [
    "nbModel = BernoulliNB()"
   ]
  },
  {
   "cell_type": "code",
   "execution_count": 92,
   "id": "8c32b781",
   "metadata": {},
   "outputs": [
    {
     "data": {
      "text/html": [
       "<style>#sk-container-id-9 {color: black;background-color: white;}#sk-container-id-9 pre{padding: 0;}#sk-container-id-9 div.sk-toggleable {background-color: white;}#sk-container-id-9 label.sk-toggleable__label {cursor: pointer;display: block;width: 100%;margin-bottom: 0;padding: 0.3em;box-sizing: border-box;text-align: center;}#sk-container-id-9 label.sk-toggleable__label-arrow:before {content: \"▸\";float: left;margin-right: 0.25em;color: #696969;}#sk-container-id-9 label.sk-toggleable__label-arrow:hover:before {color: black;}#sk-container-id-9 div.sk-estimator:hover label.sk-toggleable__label-arrow:before {color: black;}#sk-container-id-9 div.sk-toggleable__content {max-height: 0;max-width: 0;overflow: hidden;text-align: left;background-color: #f0f8ff;}#sk-container-id-9 div.sk-toggleable__content pre {margin: 0.2em;color: black;border-radius: 0.25em;background-color: #f0f8ff;}#sk-container-id-9 input.sk-toggleable__control:checked~div.sk-toggleable__content {max-height: 200px;max-width: 100%;overflow: auto;}#sk-container-id-9 input.sk-toggleable__control:checked~label.sk-toggleable__label-arrow:before {content: \"▾\";}#sk-container-id-9 div.sk-estimator input.sk-toggleable__control:checked~label.sk-toggleable__label {background-color: #d4ebff;}#sk-container-id-9 div.sk-label input.sk-toggleable__control:checked~label.sk-toggleable__label {background-color: #d4ebff;}#sk-container-id-9 input.sk-hidden--visually {border: 0;clip: rect(1px 1px 1px 1px);clip: rect(1px, 1px, 1px, 1px);height: 1px;margin: -1px;overflow: hidden;padding: 0;position: absolute;width: 1px;}#sk-container-id-9 div.sk-estimator {font-family: monospace;background-color: #f0f8ff;border: 1px dotted black;border-radius: 0.25em;box-sizing: border-box;margin-bottom: 0.5em;}#sk-container-id-9 div.sk-estimator:hover {background-color: #d4ebff;}#sk-container-id-9 div.sk-parallel-item::after {content: \"\";width: 100%;border-bottom: 1px solid gray;flex-grow: 1;}#sk-container-id-9 div.sk-label:hover label.sk-toggleable__label {background-color: #d4ebff;}#sk-container-id-9 div.sk-serial::before {content: \"\";position: absolute;border-left: 1px solid gray;box-sizing: border-box;top: 0;bottom: 0;left: 50%;z-index: 0;}#sk-container-id-9 div.sk-serial {display: flex;flex-direction: column;align-items: center;background-color: white;padding-right: 0.2em;padding-left: 0.2em;position: relative;}#sk-container-id-9 div.sk-item {position: relative;z-index: 1;}#sk-container-id-9 div.sk-parallel {display: flex;align-items: stretch;justify-content: center;background-color: white;position: relative;}#sk-container-id-9 div.sk-item::before, #sk-container-id-9 div.sk-parallel-item::before {content: \"\";position: absolute;border-left: 1px solid gray;box-sizing: border-box;top: 0;bottom: 0;left: 50%;z-index: -1;}#sk-container-id-9 div.sk-parallel-item {display: flex;flex-direction: column;z-index: 1;position: relative;background-color: white;}#sk-container-id-9 div.sk-parallel-item:first-child::after {align-self: flex-end;width: 50%;}#sk-container-id-9 div.sk-parallel-item:last-child::after {align-self: flex-start;width: 50%;}#sk-container-id-9 div.sk-parallel-item:only-child::after {width: 0;}#sk-container-id-9 div.sk-dashed-wrapped {border: 1px dashed gray;margin: 0 0.4em 0.5em 0.4em;box-sizing: border-box;padding-bottom: 0.4em;background-color: white;}#sk-container-id-9 div.sk-label label {font-family: monospace;font-weight: bold;display: inline-block;line-height: 1.2em;}#sk-container-id-9 div.sk-label-container {text-align: center;}#sk-container-id-9 div.sk-container {/* jupyter's `normalize.less` sets `[hidden] { display: none; }` but bootstrap.min.css set `[hidden] { display: none !important; }` so we also need the `!important` here to be able to override the default hidden behavior on the sphinx rendered scikit-learn.org. See: https://github.com/scikit-learn/scikit-learn/issues/21755 */display: inline-block !important;position: relative;}#sk-container-id-9 div.sk-text-repr-fallback {display: none;}</style><div id=\"sk-container-id-9\" class=\"sk-top-container\"><div class=\"sk-text-repr-fallback\"><pre>BernoulliNB()</pre><b>In a Jupyter environment, please rerun this cell to show the HTML representation or trust the notebook. <br />On GitHub, the HTML representation is unable to render, please try loading this page with nbviewer.org.</b></div><div class=\"sk-container\" hidden><div class=\"sk-item\"><div class=\"sk-estimator sk-toggleable\"><input class=\"sk-toggleable__control sk-hidden--visually\" id=\"sk-estimator-id-9\" type=\"checkbox\" checked><label for=\"sk-estimator-id-9\" class=\"sk-toggleable__label sk-toggleable__label-arrow\">BernoulliNB</label><div class=\"sk-toggleable__content\"><pre>BernoulliNB()</pre></div></div></div></div></div>"
      ],
      "text/plain": [
       "BernoulliNB()"
      ]
     },
     "execution_count": 92,
     "metadata": {},
     "output_type": "execute_result"
    }
   ],
   "source": [
    "nbModel.fit(X_train_scaled,y_train)"
   ]
  },
  {
   "cell_type": "code",
   "execution_count": 93,
   "id": "1c1a9d92",
   "metadata": {},
   "outputs": [
    {
     "data": {
      "text/plain": [
       "0.11666666666666667"
      ]
     },
     "execution_count": 93,
     "metadata": {},
     "output_type": "execute_result"
    }
   ],
   "source": [
    "nbModel.score(X_test_scaled,y_test)"
   ]
  },
  {
   "cell_type": "code",
   "execution_count": null,
   "id": "9695025d",
   "metadata": {},
   "outputs": [],
   "source": []
  },
  {
   "cell_type": "markdown",
   "id": "50948629",
   "metadata": {},
   "source": [
    "## Using Support vector Machine"
   ]
  },
  {
   "cell_type": "code",
   "execution_count": 94,
   "id": "05f04aab",
   "metadata": {},
   "outputs": [],
   "source": [
    "from sklearn.svm import SVC"
   ]
  },
  {
   "cell_type": "code",
   "execution_count": 180,
   "id": "a19c6068",
   "metadata": {},
   "outputs": [],
   "source": [
    "svModel = SVC(probability=True)"
   ]
  },
  {
   "cell_type": "code",
   "execution_count": 181,
   "id": "7583313b",
   "metadata": {},
   "outputs": [
    {
     "data": {
      "text/html": [
       "<style>#sk-container-id-12 {color: black;background-color: white;}#sk-container-id-12 pre{padding: 0;}#sk-container-id-12 div.sk-toggleable {background-color: white;}#sk-container-id-12 label.sk-toggleable__label {cursor: pointer;display: block;width: 100%;margin-bottom: 0;padding: 0.3em;box-sizing: border-box;text-align: center;}#sk-container-id-12 label.sk-toggleable__label-arrow:before {content: \"▸\";float: left;margin-right: 0.25em;color: #696969;}#sk-container-id-12 label.sk-toggleable__label-arrow:hover:before {color: black;}#sk-container-id-12 div.sk-estimator:hover label.sk-toggleable__label-arrow:before {color: black;}#sk-container-id-12 div.sk-toggleable__content {max-height: 0;max-width: 0;overflow: hidden;text-align: left;background-color: #f0f8ff;}#sk-container-id-12 div.sk-toggleable__content pre {margin: 0.2em;color: black;border-radius: 0.25em;background-color: #f0f8ff;}#sk-container-id-12 input.sk-toggleable__control:checked~div.sk-toggleable__content {max-height: 200px;max-width: 100%;overflow: auto;}#sk-container-id-12 input.sk-toggleable__control:checked~label.sk-toggleable__label-arrow:before {content: \"▾\";}#sk-container-id-12 div.sk-estimator input.sk-toggleable__control:checked~label.sk-toggleable__label {background-color: #d4ebff;}#sk-container-id-12 div.sk-label input.sk-toggleable__control:checked~label.sk-toggleable__label {background-color: #d4ebff;}#sk-container-id-12 input.sk-hidden--visually {border: 0;clip: rect(1px 1px 1px 1px);clip: rect(1px, 1px, 1px, 1px);height: 1px;margin: -1px;overflow: hidden;padding: 0;position: absolute;width: 1px;}#sk-container-id-12 div.sk-estimator {font-family: monospace;background-color: #f0f8ff;border: 1px dotted black;border-radius: 0.25em;box-sizing: border-box;margin-bottom: 0.5em;}#sk-container-id-12 div.sk-estimator:hover {background-color: #d4ebff;}#sk-container-id-12 div.sk-parallel-item::after {content: \"\";width: 100%;border-bottom: 1px solid gray;flex-grow: 1;}#sk-container-id-12 div.sk-label:hover label.sk-toggleable__label {background-color: #d4ebff;}#sk-container-id-12 div.sk-serial::before {content: \"\";position: absolute;border-left: 1px solid gray;box-sizing: border-box;top: 0;bottom: 0;left: 50%;z-index: 0;}#sk-container-id-12 div.sk-serial {display: flex;flex-direction: column;align-items: center;background-color: white;padding-right: 0.2em;padding-left: 0.2em;position: relative;}#sk-container-id-12 div.sk-item {position: relative;z-index: 1;}#sk-container-id-12 div.sk-parallel {display: flex;align-items: stretch;justify-content: center;background-color: white;position: relative;}#sk-container-id-12 div.sk-item::before, #sk-container-id-12 div.sk-parallel-item::before {content: \"\";position: absolute;border-left: 1px solid gray;box-sizing: border-box;top: 0;bottom: 0;left: 50%;z-index: -1;}#sk-container-id-12 div.sk-parallel-item {display: flex;flex-direction: column;z-index: 1;position: relative;background-color: white;}#sk-container-id-12 div.sk-parallel-item:first-child::after {align-self: flex-end;width: 50%;}#sk-container-id-12 div.sk-parallel-item:last-child::after {align-self: flex-start;width: 50%;}#sk-container-id-12 div.sk-parallel-item:only-child::after {width: 0;}#sk-container-id-12 div.sk-dashed-wrapped {border: 1px dashed gray;margin: 0 0.4em 0.5em 0.4em;box-sizing: border-box;padding-bottom: 0.4em;background-color: white;}#sk-container-id-12 div.sk-label label {font-family: monospace;font-weight: bold;display: inline-block;line-height: 1.2em;}#sk-container-id-12 div.sk-label-container {text-align: center;}#sk-container-id-12 div.sk-container {/* jupyter's `normalize.less` sets `[hidden] { display: none; }` but bootstrap.min.css set `[hidden] { display: none !important; }` so we also need the `!important` here to be able to override the default hidden behavior on the sphinx rendered scikit-learn.org. See: https://github.com/scikit-learn/scikit-learn/issues/21755 */display: inline-block !important;position: relative;}#sk-container-id-12 div.sk-text-repr-fallback {display: none;}</style><div id=\"sk-container-id-12\" class=\"sk-top-container\"><div class=\"sk-text-repr-fallback\"><pre>SVC(probability=True)</pre><b>In a Jupyter environment, please rerun this cell to show the HTML representation or trust the notebook. <br />On GitHub, the HTML representation is unable to render, please try loading this page with nbviewer.org.</b></div><div class=\"sk-container\" hidden><div class=\"sk-item\"><div class=\"sk-estimator sk-toggleable\"><input class=\"sk-toggleable__control sk-hidden--visually\" id=\"sk-estimator-id-12\" type=\"checkbox\" checked><label for=\"sk-estimator-id-12\" class=\"sk-toggleable__label sk-toggleable__label-arrow\">SVC</label><div class=\"sk-toggleable__content\"><pre>SVC(probability=True)</pre></div></div></div></div></div>"
      ],
      "text/plain": [
       "SVC(probability=True)"
      ]
     },
     "execution_count": 181,
     "metadata": {},
     "output_type": "execute_result"
    }
   ],
   "source": [
    "svModel.fit(X_train_2d,y_train)"
   ]
  },
  {
   "cell_type": "code",
   "execution_count": 182,
   "id": "14448007",
   "metadata": {},
   "outputs": [
    {
     "data": {
      "text/plain": [
       "0.8805555555555555"
      ]
     },
     "execution_count": 182,
     "metadata": {},
     "output_type": "execute_result"
    }
   ],
   "source": [
    "svModel.score(X_test_2d,y_test)"
   ]
  },
  {
   "cell_type": "code",
   "execution_count": null,
   "id": "bd02517b",
   "metadata": {},
   "outputs": [],
   "source": []
  },
  {
   "cell_type": "code",
   "execution_count": 183,
   "id": "f25620e4",
   "metadata": {
    "scrolled": true
   },
   "outputs": [
    {
     "data": {
      "text/plain": [
       "array([13])"
      ]
     },
     "execution_count": 183,
     "metadata": {},
     "output_type": "execute_result"
    }
   ],
   "source": [
    "text1 = preprocess(df.text[717])\n",
    "text1 = nlp(text1).vector\n",
    "svModel.predict([text1])"
   ]
  },
  {
   "cell_type": "code",
   "execution_count": 184,
   "id": "5592211f",
   "metadata": {},
   "outputs": [
    {
     "data": {
      "text/html": [
       "<div>\n",
       "<style scoped>\n",
       "    .dataframe tbody tr th:only-of-type {\n",
       "        vertical-align: middle;\n",
       "    }\n",
       "\n",
       "    .dataframe tbody tr th {\n",
       "        vertical-align: top;\n",
       "    }\n",
       "\n",
       "    .dataframe thead th {\n",
       "        text-align: right;\n",
       "    }\n",
       "</style>\n",
       "<table border=\"1\" class=\"dataframe\">\n",
       "  <thead>\n",
       "    <tr style=\"text-align: right;\">\n",
       "      <th></th>\n",
       "      <th>label</th>\n",
       "      <th>text</th>\n",
       "      <th>label_num</th>\n",
       "      <th>preprocessed</th>\n",
       "      <th>vector</th>\n",
       "    </tr>\n",
       "  </thead>\n",
       "  <tbody>\n",
       "    <tr>\n",
       "      <th>717</th>\n",
       "      <td>Migraine</td>\n",
       "      <td>I have been suffering from acid reflux, indige...</td>\n",
       "      <td>13</td>\n",
       "      <td>suffer acid reflux indigestion frequent headac...</td>\n",
       "      <td>[0.5704247, -0.05428452, -1.5905492, -0.431310...</td>\n",
       "    </tr>\n",
       "  </tbody>\n",
       "</table>\n",
       "</div>"
      ],
      "text/plain": [
       "        label                                               text  label_num   \n",
       "717  Migraine  I have been suffering from acid reflux, indige...         13  \\\n",
       "\n",
       "                                          preprocessed   \n",
       "717  suffer acid reflux indigestion frequent headac...  \\\n",
       "\n",
       "                                                vector  \n",
       "717  [0.5704247, -0.05428452, -1.5905492, -0.431310...  "
      ]
     },
     "execution_count": 184,
     "metadata": {},
     "output_type": "execute_result"
    }
   ],
   "source": [
    "df[df.text == df.text[717]]"
   ]
  },
  {
   "cell_type": "code",
   "execution_count": 275,
   "id": "59ab0cee",
   "metadata": {},
   "outputs": [],
   "source": [
    "text = \"I am been Sneezing, coughing and having headache from last two days\""
   ]
  },
  {
   "cell_type": "code",
   "execution_count": 276,
   "id": "ec055b8b",
   "metadata": {},
   "outputs": [
    {
     "data": {
      "text/plain": [
       "'Typhoid'"
      ]
     },
     "execution_count": 276,
     "metadata": {},
     "output_type": "execute_result"
    }
   ],
   "source": [
    "text1 = preprocess(text)\n",
    "text1 = nlp(text1).vector\n",
    "label_num = svModel.predict([text1])[0]\n",
    "df[df.label_num == label_num].label.unique()[0]"
   ]
  },
  {
   "cell_type": "code",
   "execution_count": null,
   "id": "99404336",
   "metadata": {},
   "outputs": [],
   "source": []
  },
  {
   "cell_type": "code",
   "execution_count": 271,
   "id": "85067d95",
   "metadata": {},
   "outputs": [],
   "source": []
  },
  {
   "cell_type": "code",
   "execution_count": null,
   "id": "c107611a",
   "metadata": {},
   "outputs": [],
   "source": []
  },
  {
   "cell_type": "markdown",
   "id": "ee71bfe5",
   "metadata": {},
   "source": [
    "## Using Decision Tree"
   ]
  },
  {
   "cell_type": "code",
   "execution_count": 100,
   "id": "0ffd5763",
   "metadata": {},
   "outputs": [],
   "source": [
    "from sklearn.tree import DecisionTreeClassifier"
   ]
  },
  {
   "cell_type": "code",
   "execution_count": 101,
   "id": "35f17ef3",
   "metadata": {},
   "outputs": [],
   "source": [
    "dtcModel = DecisionTreeClassifier()"
   ]
  },
  {
   "cell_type": "code",
   "execution_count": 102,
   "id": "afee2935",
   "metadata": {},
   "outputs": [
    {
     "data": {
      "text/html": [
       "<style>#sk-container-id-11 {color: black;background-color: white;}#sk-container-id-11 pre{padding: 0;}#sk-container-id-11 div.sk-toggleable {background-color: white;}#sk-container-id-11 label.sk-toggleable__label {cursor: pointer;display: block;width: 100%;margin-bottom: 0;padding: 0.3em;box-sizing: border-box;text-align: center;}#sk-container-id-11 label.sk-toggleable__label-arrow:before {content: \"▸\";float: left;margin-right: 0.25em;color: #696969;}#sk-container-id-11 label.sk-toggleable__label-arrow:hover:before {color: black;}#sk-container-id-11 div.sk-estimator:hover label.sk-toggleable__label-arrow:before {color: black;}#sk-container-id-11 div.sk-toggleable__content {max-height: 0;max-width: 0;overflow: hidden;text-align: left;background-color: #f0f8ff;}#sk-container-id-11 div.sk-toggleable__content pre {margin: 0.2em;color: black;border-radius: 0.25em;background-color: #f0f8ff;}#sk-container-id-11 input.sk-toggleable__control:checked~div.sk-toggleable__content {max-height: 200px;max-width: 100%;overflow: auto;}#sk-container-id-11 input.sk-toggleable__control:checked~label.sk-toggleable__label-arrow:before {content: \"▾\";}#sk-container-id-11 div.sk-estimator input.sk-toggleable__control:checked~label.sk-toggleable__label {background-color: #d4ebff;}#sk-container-id-11 div.sk-label input.sk-toggleable__control:checked~label.sk-toggleable__label {background-color: #d4ebff;}#sk-container-id-11 input.sk-hidden--visually {border: 0;clip: rect(1px 1px 1px 1px);clip: rect(1px, 1px, 1px, 1px);height: 1px;margin: -1px;overflow: hidden;padding: 0;position: absolute;width: 1px;}#sk-container-id-11 div.sk-estimator {font-family: monospace;background-color: #f0f8ff;border: 1px dotted black;border-radius: 0.25em;box-sizing: border-box;margin-bottom: 0.5em;}#sk-container-id-11 div.sk-estimator:hover {background-color: #d4ebff;}#sk-container-id-11 div.sk-parallel-item::after {content: \"\";width: 100%;border-bottom: 1px solid gray;flex-grow: 1;}#sk-container-id-11 div.sk-label:hover label.sk-toggleable__label {background-color: #d4ebff;}#sk-container-id-11 div.sk-serial::before {content: \"\";position: absolute;border-left: 1px solid gray;box-sizing: border-box;top: 0;bottom: 0;left: 50%;z-index: 0;}#sk-container-id-11 div.sk-serial {display: flex;flex-direction: column;align-items: center;background-color: white;padding-right: 0.2em;padding-left: 0.2em;position: relative;}#sk-container-id-11 div.sk-item {position: relative;z-index: 1;}#sk-container-id-11 div.sk-parallel {display: flex;align-items: stretch;justify-content: center;background-color: white;position: relative;}#sk-container-id-11 div.sk-item::before, #sk-container-id-11 div.sk-parallel-item::before {content: \"\";position: absolute;border-left: 1px solid gray;box-sizing: border-box;top: 0;bottom: 0;left: 50%;z-index: -1;}#sk-container-id-11 div.sk-parallel-item {display: flex;flex-direction: column;z-index: 1;position: relative;background-color: white;}#sk-container-id-11 div.sk-parallel-item:first-child::after {align-self: flex-end;width: 50%;}#sk-container-id-11 div.sk-parallel-item:last-child::after {align-self: flex-start;width: 50%;}#sk-container-id-11 div.sk-parallel-item:only-child::after {width: 0;}#sk-container-id-11 div.sk-dashed-wrapped {border: 1px dashed gray;margin: 0 0.4em 0.5em 0.4em;box-sizing: border-box;padding-bottom: 0.4em;background-color: white;}#sk-container-id-11 div.sk-label label {font-family: monospace;font-weight: bold;display: inline-block;line-height: 1.2em;}#sk-container-id-11 div.sk-label-container {text-align: center;}#sk-container-id-11 div.sk-container {/* jupyter's `normalize.less` sets `[hidden] { display: none; }` but bootstrap.min.css set `[hidden] { display: none !important; }` so we also need the `!important` here to be able to override the default hidden behavior on the sphinx rendered scikit-learn.org. See: https://github.com/scikit-learn/scikit-learn/issues/21755 */display: inline-block !important;position: relative;}#sk-container-id-11 div.sk-text-repr-fallback {display: none;}</style><div id=\"sk-container-id-11\" class=\"sk-top-container\"><div class=\"sk-text-repr-fallback\"><pre>DecisionTreeClassifier()</pre><b>In a Jupyter environment, please rerun this cell to show the HTML representation or trust the notebook. <br />On GitHub, the HTML representation is unable to render, please try loading this page with nbviewer.org.</b></div><div class=\"sk-container\" hidden><div class=\"sk-item\"><div class=\"sk-estimator sk-toggleable\"><input class=\"sk-toggleable__control sk-hidden--visually\" id=\"sk-estimator-id-11\" type=\"checkbox\" checked><label for=\"sk-estimator-id-11\" class=\"sk-toggleable__label sk-toggleable__label-arrow\">DecisionTreeClassifier</label><div class=\"sk-toggleable__content\"><pre>DecisionTreeClassifier()</pre></div></div></div></div></div>"
      ],
      "text/plain": [
       "DecisionTreeClassifier()"
      ]
     },
     "execution_count": 102,
     "metadata": {},
     "output_type": "execute_result"
    }
   ],
   "source": [
    "dtcModel.fit(X_train_scaled,y_train)"
   ]
  },
  {
   "cell_type": "code",
   "execution_count": 103,
   "id": "80a5dbd5",
   "metadata": {},
   "outputs": [
    {
     "data": {
      "text/plain": [
       "0.48055555555555557"
      ]
     },
     "execution_count": 103,
     "metadata": {},
     "output_type": "execute_result"
    }
   ],
   "source": [
    "dtcModel.score(X_test_scaled,y_test)"
   ]
  },
  {
   "cell_type": "code",
   "execution_count": 104,
   "id": "832a46f7",
   "metadata": {},
   "outputs": [
    {
     "data": {
      "text/plain": [
       "array([[0.27086753, 0.6119641 , 0.48581034, ..., 0.4236062 , 0.4225692 ,\n",
       "        0.6496289 ],\n",
       "       [0.3557761 , 0.62271357, 0.3469906 , ..., 0.4882978 , 0.5621682 ,\n",
       "        0.27179444],\n",
       "       [0.86874694, 0.49473852, 0.5714649 , ..., 0.5118594 , 0.74141544,\n",
       "        0.2286177 ],\n",
       "       ...,\n",
       "       [0.5120824 , 0.4977391 , 0.56779075, ..., 0.3682195 , 0.2738088 ,\n",
       "        0.6095128 ],\n",
       "       [0.2387518 , 0.6166196 , 0.4909991 , ..., 0.43481377, 0.49910533,\n",
       "        0.51131916],\n",
       "       [0.34961414, 0.5484357 , 0.31774354, ..., 0.27728397, 0.41536492,\n",
       "        0.7825786 ]], dtype=float32)"
      ]
     },
     "execution_count": 104,
     "metadata": {},
     "output_type": "execute_result"
    }
   ],
   "source": [
    "X_test_scaled"
   ]
  },
  {
   "cell_type": "markdown",
   "id": "e8576002",
   "metadata": {},
   "source": [
    "## SVM Classification Report"
   ]
  },
  {
   "cell_type": "code",
   "execution_count": 105,
   "id": "4bbf2858",
   "metadata": {},
   "outputs": [],
   "source": [
    "\n",
    "from sklearn.metrics import classification_report\n"
   ]
  },
  {
   "cell_type": "code",
   "execution_count": 106,
   "id": "c2b5155d",
   "metadata": {},
   "outputs": [],
   "source": [
    "y_pred = svModel.predict(X_test_2d)"
   ]
  },
  {
   "cell_type": "code",
   "execution_count": 107,
   "id": "0af00c69",
   "metadata": {},
   "outputs": [
    {
     "name": "stdout",
     "output_type": "stream",
     "text": [
      "              precision    recall  f1-score   support\n",
      "\n",
      "           0       1.00      1.00      1.00        15\n",
      "           1       1.00      1.00      1.00        15\n",
      "           2       0.79      1.00      0.88        15\n",
      "           3       0.94      1.00      0.97        15\n",
      "           4       0.65      0.73      0.69        15\n",
      "           5       0.92      0.73      0.81        15\n",
      "           6       1.00      0.53      0.70        15\n",
      "           7       0.94      1.00      0.97        15\n",
      "           8       1.00      0.93      0.97        15\n",
      "           9       1.00      0.87      0.93        15\n",
      "          10       0.82      0.93      0.87        15\n",
      "          11       1.00      1.00      1.00        15\n",
      "          12       0.94      1.00      0.97        15\n",
      "          13       0.94      1.00      0.97        15\n",
      "          14       1.00      0.80      0.89        15\n",
      "          15       0.67      0.93      0.78        15\n",
      "          16       0.74      0.93      0.82        15\n",
      "          17       1.00      0.93      0.97        15\n",
      "          18       0.82      0.93      0.87        15\n",
      "          19       0.83      0.67      0.74        15\n",
      "          20       0.80      0.53      0.64        15\n",
      "          21       0.92      0.80      0.86        15\n",
      "          22       0.87      0.87      0.87        15\n",
      "          23       0.83      1.00      0.91        15\n",
      "\n",
      "    accuracy                           0.88       360\n",
      "   macro avg       0.89      0.88      0.88       360\n",
      "weighted avg       0.89      0.88      0.88       360\n",
      "\n"
     ]
    }
   ],
   "source": [
    "print(classification_report(y_test,y_pred))"
   ]
  },
  {
   "cell_type": "code",
   "execution_count": null,
   "id": "f56d0bca",
   "metadata": {},
   "outputs": [],
   "source": []
  },
  {
   "cell_type": "code",
   "execution_count": 108,
   "id": "4aebbd21",
   "metadata": {},
   "outputs": [],
   "source": [
    "from sklearn.metrics import confusion_matrix\n",
    "cm = confusion_matrix(y_test, y_pred)"
   ]
  },
  {
   "cell_type": "code",
   "execution_count": 109,
   "id": "28f97b1d",
   "metadata": {},
   "outputs": [
    {
     "data": {
      "image/png": "[encoded data removed]",
      "text/plain": [
       "<Figure size 900x900 with 2 Axes>"
      ]
     },
     "metadata": {},
     "output_type": "display_data"
    }
   ],
   "source": [
    "\n",
    "plt.figure(figsize=(9,9))\n",
    "sns.heatmap(cm,annot=True)\n",
    "plt.title('Confusion Matrix')\n",
    "plt.xlabel(\"Prediction\")\n",
    "plt.ylabel(\"Truth\");"
   ]
  },
  {
   "cell_type": "code",
   "execution_count": null,
   "id": "f73dd8f6",
   "metadata": {},
   "outputs": [],
   "source": []
  },
  {
   "cell_type": "code",
   "execution_count": null,
   "id": "77ea29e6",
   "metadata": {},
   "outputs": [],
   "source": []
  },
  {
   "cell_type": "code",
   "execution_count": null,
   "id": "439f0e4f",
   "metadata": {},
   "outputs": [],
   "source": []
  },
  {
   "cell_type": "code",
   "execution_count": null,
   "id": "3f04111d",
   "metadata": {},
   "outputs": [],
   "source": []
  },
  {
   "cell_type": "code",
   "execution_count": 110,
   "id": "8ce0f6f1",
   "metadata": {
    "scrolled": true
   },
   "outputs": [
    {
     "data": {
      "text/plain": [
       "array([[0.55782974, 0.6704641 , 0.08574742, 0.39252543, 0.60448545,\n",
       "        0.3660678 , 0.50808877, 0.94904804, 0.38137504, 0.62067556,\n",
       "        1.        , 0.56627595, 0.08875862, 0.68651897, 0.66716015,\n",
       "        0.50128293, 0.7441611 , 0.324407  , 0.36951205, 0.32017845,\n",
       "        0.30865216, 0.5931581 , 0.32042426, 0.43600288, 0.23662099,\n",
       "        0.07836321, 0.15893501, 0.42356285, 0.2995183 , 0.6183226 ,\n",
       "        0.7677636 , 0.5616362 , 0.35706806, 0.36261368, 0.41157904,\n",
       "        0.27845958, 0.60862374, 0.7443104 , 0.8145786 , 0.5848153 ,\n",
       "        0.6119736 , 0.2866193 , 0.42627662, 0.6071808 , 0.21715127,\n",
       "        0.68647504, 0.526626  , 0.06853729, 0.31044763, 0.58224535,\n",
       "        0.5680909 , 0.527229  , 0.4131654 , 0.08222103, 0.23182939,\n",
       "        0.50708556, 0.7153176 , 0.69631994, 0.6630562 , 0.53661007,\n",
       "        0.51047677, 0.36269456, 0.15647751, 0.289419  , 0.4600737 ,\n",
       "        0.4959714 , 0.05670339, 0.16671392, 0.45498842, 0.761263  ,\n",
       "        0.5731083 , 0.3304935 , 0.31504643, 0.50666714, 0.3987791 ,\n",
       "        0.4983301 , 0.31958714, 0.45134804, 0.34507012, 0.42437786,\n",
       "        0.04147404, 0.554841  , 0.4491054 , 0.49973026, 0.5903185 ,\n",
       "        0.53882015, 0.34695426, 0.36000994, 0.59308755, 0.41376984,\n",
       "        0.39109978, 0.4316106 , 0.45365137, 0.09335041, 0.50204545,\n",
       "        0.1368976 , 0.50827855, 0.318105  , 0.5280718 , 0.40890595,\n",
       "        0.5967619 , 0.58524275, 0.5318376 , 0.6218178 , 0.382954  ,\n",
       "        0.8283831 , 0.1804767 , 0.39175683, 0.37333092, 0.26030472,\n",
       "        0.49854955, 0.27506697, 0.3227216 , 0.17464188, 0.50240475,\n",
       "        0.7424245 , 0.00163594, 0.21172374, 0.52661926, 0.53968024,\n",
       "        0.28072757, 0.31919497, 0.2792397 , 0.52768445, 0.25441566,\n",
       "        0.19413638, 0.481942  , 0.37486693, 0.5554843 , 0.40053055,\n",
       "        0.13954529, 0.5994524 , 0.83996046, 0.4940436 , 0.5234439 ,\n",
       "        0.32762784, 0.13915777, 0.18625757, 0.73636925, 0.30177844,\n",
       "        0.34517375, 0.35946375, 0.513213  , 0.55177176, 0.3328203 ,\n",
       "        0.13695171, 0.10970485, 0.23973836, 0.5415431 , 0.3264084 ,\n",
       "        0.2909278 , 0.51726884, 0.23143116, 0.54583997, 0.39584148,\n",
       "        0.5878586 , 0.7463173 , 0.41639483, 0.58210063, 0.11291251,\n",
       "        0.412481  , 0.43423986, 0.34620193, 0.39163595, 0.37728694,\n",
       "        0.4188121 , 0.24924147, 0.5149058 , 0.32802522, 0.48015958,\n",
       "        0.54893196, 0.63081145, 0.7355819 , 0.36980996, 0.5892694 ,\n",
       "        0.3708299 , 0.32425365, 0.5447789 , 0.40089813, 0.24809898,\n",
       "        0.36212057, 0.29211676, 0.8672778 , 0.33883768, 0.15151936,\n",
       "        0.49583378, 0.34260544, 0.1705494 , 0.48837012, 0.58721185,\n",
       "        0.28696457, 0.49631345, 0.42498282, 0.30857667, 0.32518515,\n",
       "        0.22658868, 0.24310067, 0.48410997, 0.39858818, 0.5895885 ,\n",
       "        0.32233235, 0.50349903, 0.31574255, 0.26343864, 0.40462103,\n",
       "        0.5458432 , 0.15218249, 0.74250734, 0.1210449 , 0.38044903,\n",
       "        0.686256  , 0.48238128, 0.43074358, 0.60188925, 0.16542903,\n",
       "        0.64407456, 0.6682997 , 0.1592024 , 0.34492317, 0.38511652,\n",
       "        0.38127536, 0.54967856, 0.38861358, 0.49457997, 0.4085078 ,\n",
       "        0.41962284, 0.2599769 , 0.4729636 , 0.7223921 , 0.5703309 ,\n",
       "        0.49716198, 0.12661451, 0.528499  , 0.5676113 , 0.5015466 ,\n",
       "        0.5107334 , 0.3272259 , 0.60920596, 0.55217725, 0.48366165,\n",
       "        0.26644558, 0.51130223, 0.7172505 , 0.50991035, 0.3668854 ,\n",
       "        0.6033199 , 0.23909307, 0.6365207 , 0.19498971, 0.52361333,\n",
       "        0.5088305 , 0.5229136 , 0.        , 0.42915085, 0.5235728 ,\n",
       "        0.02315691, 0.3988678 , 0.37733465, 0.32516652, 0.29859266,\n",
       "        0.35902342, 0.66505706, 0.80797654, 0.634671  , 0.81038976,\n",
       "        0.24162506, 0.5767686 , 0.32244706, 0.21451715, 0.6557901 ,\n",
       "        0.70576096, 0.47322625, 0.6572595 , 0.4374723 , 0.42130733,\n",
       "        0.34222654, 0.41167474, 0.30411696, 0.2878036 , 0.5801823 ,\n",
       "        0.32173163, 0.3201707 , 0.68891513, 0.38734242, 0.7287819 ,\n",
       "        0.48552048, 0.40329605, 0.4930782 , 0.04959884, 0.3841794 ,\n",
       "        0.582005  , 0.21231207, 0.640964  , 0.37702513, 0.13054022,\n",
       "        0.41825438, 0.6210155 , 0.23435144, 0.2216657 , 0.68729806]],\n",
       "      dtype=float32)"
      ]
     },
     "execution_count": 110,
     "metadata": {},
     "output_type": "execute_result"
    }
   ],
   "source": [
    "from sklearn.preprocessing import MinMaxScaler\n",
    "\n",
    "a = preprocess(df.text[13])\n",
    "a = nlp(a).vector\n",
    "a = a.reshape(-1,1)\n",
    "scaler1 = MinMaxScaler()\n",
    "a_scaled = scaler1.fit_transform(a)\n",
    "a_scaled = a_scaled.reshape(1,-1)\n",
    "a_scaled"
   ]
  },
  {
   "cell_type": "code",
   "execution_count": 111,
   "id": "1d9d936a",
   "metadata": {},
   "outputs": [
    {
     "data": {
      "text/plain": [
       "array([20])"
      ]
     },
     "execution_count": 111,
     "metadata": {},
     "output_type": "execute_result"
    }
   ],
   "source": [
    "svModel.predict(a_scaled)"
   ]
  },
  {
   "cell_type": "code",
   "execution_count": null,
   "id": "04b24be8",
   "metadata": {},
   "outputs": [],
   "source": []
  },
  {
   "cell_type": "code",
   "execution_count": 112,
   "id": "0239ec67",
   "metadata": {},
   "outputs": [
    {
     "data": {
      "text/plain": [
       "array(['Dengue'], dtype=object)"
      ]
     },
     "execution_count": 112,
     "metadata": {},
     "output_type": "execute_result"
    }
   ],
   "source": [
    "df[df['label_num']==6].label.unique()"
   ]
  },
  {
   "cell_type": "code",
   "execution_count": null,
   "id": "edb9b701",
   "metadata": {},
   "outputs": [],
   "source": []
  },
  {
   "cell_type": "code",
   "execution_count": null,
   "id": "1ffa48b8",
   "metadata": {},
   "outputs": [],
   "source": []
  },
  {
   "cell_type": "code",
   "execution_count": 113,
   "id": "459819c9",
   "metadata": {
    "scrolled": true
   },
   "outputs": [
    {
     "data": {
      "text/html": [
       "<div>\n",
       "<style scoped>\n",
       "    .dataframe tbody tr th:only-of-type {\n",
       "        vertical-align: middle;\n",
       "    }\n",
       "\n",
       "    .dataframe tbody tr th {\n",
       "        vertical-align: top;\n",
       "    }\n",
       "\n",
       "    .dataframe thead th {\n",
       "        text-align: right;\n",
       "    }\n",
       "</style>\n",
       "<table border=\"1\" class=\"dataframe\">\n",
       "  <thead>\n",
       "    <tr style=\"text-align: right;\">\n",
       "      <th></th>\n",
       "      <th>label</th>\n",
       "      <th>text</th>\n",
       "      <th>label_num</th>\n",
       "      <th>preprocessed</th>\n",
       "      <th>vector</th>\n",
       "    </tr>\n",
       "  </thead>\n",
       "  <tbody>\n",
       "    <tr>\n",
       "      <th>13</th>\n",
       "      <td>Psoriasis</td>\n",
       "      <td>I have experienced difficulty sleeping due to ...</td>\n",
       "      <td>15</td>\n",
       "      <td>experience difficulty sleep itching discomfort...</td>\n",
       "      <td>[1.1300293, 2.13776, -3.0936525, -0.34893462, ...</td>\n",
       "    </tr>\n",
       "  </tbody>\n",
       "</table>\n",
       "</div>"
      ],
      "text/plain": [
       "        label                                               text  label_num   \n",
       "13  Psoriasis  I have experienced difficulty sleeping due to ...         15  \\\n",
       "\n",
       "                                         preprocessed   \n",
       "13  experience difficulty sleep itching discomfort...  \\\n",
       "\n",
       "                                               vector  \n",
       "13  [1.1300293, 2.13776, -3.0936525, -0.34893462, ...  "
      ]
     },
     "execution_count": 113,
     "metadata": {},
     "output_type": "execute_result"
    }
   ],
   "source": [
    "df[df.text == df.text[13]]"
   ]
  },
  {
   "cell_type": "code",
   "execution_count": 114,
   "id": "d1f6c8af",
   "metadata": {},
   "outputs": [
    {
     "data": {
      "text/plain": [
       "array([[0.5405946 , 0.5923625 , 0.18161392, 0.41233182, 0.6684875 ,\n",
       "        0.43707186, 0.44118208, 0.82236016, 0.21019018, 0.60521215,\n",
       "        1.0000001 , 0.6951838 , 0.1066916 , 0.8081729 , 0.910704  ,\n",
       "        0.4125503 , 0.58681583, 0.24046823, 0.45518965, 0.12159714,\n",
       "        0.44841334, 0.51513046, 0.30167186, 0.30079305, 0.33356762,\n",
       "        0.09799117, 0.12889165, 0.2597496 , 0.46154928, 0.52205074,\n",
       "        0.8361898 , 0.49167612, 0.3459767 , 0.2946236 , 0.40349126,\n",
       "        0.38024506, 0.42310014, 0.81375265, 0.89416945, 0.5904954 ,\n",
       "        0.43809438, 0.4250153 , 0.40711454, 0.42507696, 0.29765618,\n",
       "        0.7074994 , 0.6712717 , 0.0247319 , 0.3660132 , 0.4748631 ,\n",
       "        0.63359207, 0.57572436, 0.6010866 , 0.12613493, 0.21590872,\n",
       "        0.5100128 , 0.6229166 , 0.69699687, 0.61367   , 0.543821  ,\n",
       "        0.5735088 , 0.46775055, 0.28622317, 0.26602143, 0.6826018 ,\n",
       "        0.5642134 , 0.13444796, 0.25773382, 0.5136364 , 0.8414894 ,\n",
       "        0.5691195 , 0.33115157, 0.42894167, 0.5954546 , 0.5159405 ,\n",
       "        0.5394743 , 0.21951747, 0.5224605 , 0.32226527, 0.6649158 ,\n",
       "        0.15125433, 0.47495943, 0.68016267, 0.48328483, 0.75402534,\n",
       "        0.49173316, 0.41667697, 0.2968228 , 0.48919362, 0.51388043,\n",
       "        0.5943068 , 0.44228405, 0.64839983, 0.02653521, 0.62110656,\n",
       "        0.2190398 , 0.62410605, 0.39964023, 0.41528133, 0.36306658,\n",
       "        0.4131936 , 0.6554746 , 0.63776505, 0.6651087 , 0.37529612,\n",
       "        0.78167653, 0.36943623, 0.28860584, 0.3486219 , 0.17864797,\n",
       "        0.3716048 , 0.22064695, 0.32928395, 0.23142304, 0.5706085 ,\n",
       "        0.8015852 , 0.17971236, 0.11999443, 0.51862466, 0.40396166,\n",
       "        0.21792169, 0.29035503, 0.24597247, 0.5440284 , 0.22699274,\n",
       "        0.13263443, 0.59087396, 0.38265777, 0.68545616, 0.55965596,\n",
       "        0.21376067, 0.6639589 , 0.767821  , 0.44463903, 0.50646466,\n",
       "        0.4031519 , 0.10952625, 0.26035917, 0.8435298 , 0.34152347,\n",
       "        0.39630502, 0.36724868, 0.47975993, 0.6182133 , 0.5026853 ,\n",
       "        0.20725393, 0.11799958, 0.4013968 , 0.6312837 , 0.4307999 ,\n",
       "        0.4957389 , 0.46270218, 0.41628975, 0.54530394, 0.2500072 ,\n",
       "        0.54164624, 0.83847976, 0.5471545 , 0.51188856, 0.25856435,\n",
       "        0.39884365, 0.40893152, 0.28828833, 0.5126305 , 0.30815512,\n",
       "        0.47505784, 0.29563135, 0.5337108 , 0.55504113, 0.4749432 ,\n",
       "        0.6972777 , 0.59816426, 0.66916955, 0.3342303 , 0.50284743,\n",
       "        0.267678  , 0.5707917 , 0.6107341 , 0.51564336, 0.25674266,\n",
       "        0.4942206 , 0.33118522, 0.786639  , 0.3940302 , 0.2724136 ,\n",
       "        0.4817519 , 0.47674552, 0.31373644, 0.62200844, 0.6804697 ,\n",
       "        0.30943066, 0.41398165, 0.46527827, 0.43166745, 0.20455304,\n",
       "        0.29801103, 0.2497778 , 0.5841632 , 0.38503343, 0.55906785,\n",
       "        0.10032088, 0.5714295 , 0.33327374, 0.285122  , 0.45162863,\n",
       "        0.63984084, 0.05948105, 0.6157291 , 0.51334786, 0.4658021 ,\n",
       "        0.52240163, 0.47696552, 0.5322894 , 0.5580361 , 0.25827962,\n",
       "        0.54133695, 0.60654736, 0.32949477, 0.38302615, 0.37064767,\n",
       "        0.41306338, 0.44660226, 0.4937842 , 0.57576513, 0.5160137 ,\n",
       "        0.39150414, 0.35519713, 0.509058  , 0.9631027 , 0.53486544,\n",
       "        0.38878277, 0.13094786, 0.6641853 , 0.5908408 , 0.4311049 ,\n",
       "        0.6679918 , 0.32099378, 0.6361759 , 0.5414108 , 0.59473807,\n",
       "        0.35128617, 0.40917176, 0.65915906, 0.48544097, 0.32896042,\n",
       "        0.4388045 , 0.21228641, 0.51632804, 0.5961882 , 0.57759535,\n",
       "        0.42584026, 0.40499094, 0.02140811, 0.52074075, 0.697251  ,\n",
       "        0.03353655, 0.46401578, 0.40015143, 0.40939203, 0.42113152,\n",
       "        0.48355263, 0.7113108 , 0.6646832 , 0.61124927, 0.7287924 ,\n",
       "        0.40782422, 0.40666324, 0.42751354, 0.        , 0.2714591 ,\n",
       "        0.8291466 , 0.28354406, 0.41937003, 0.40609747, 0.32820702,\n",
       "        0.26566648, 0.64180195, 0.32643238, 0.27501333, 0.59892434,\n",
       "        0.44822264, 0.302373  , 0.591638  , 0.45231226, 0.8679628 ,\n",
       "        0.39286014, 0.6111561 , 0.62095964, 0.12390497, 0.56162226,\n",
       "        0.70189726, 0.24301581, 0.7084756 , 0.4810096 , 0.35767698,\n",
       "        0.33687717, 0.44553164, 0.38377115, 0.16705939, 0.5679883 ]],\n",
       "      dtype=float32)"
      ]
     },
     "execution_count": 114,
     "metadata": {},
     "output_type": "execute_result"
    }
   ],
   "source": [
    "v = X_train[0]\n",
    "v = v.reshape(-1,1)\n",
    "v = scaler.fit_transform(v)\n",
    "v = v.reshape(1,-1)\n",
    "v"
   ]
  },
  {
   "cell_type": "code",
   "execution_count": 115,
   "id": "d352f661",
   "metadata": {
    "scrolled": true
   },
   "outputs": [
    {
     "data": {
      "text/plain": [
       "array([0.27787346, 0.41356456, 0.5771773 , 0.4038393 , 0.6020669 ,\n",
       "       0.61908835, 0.27734324, 0.22888473, 0.53435236, 0.42994967,\n",
       "       0.38757887, 0.5610533 , 0.4582451 , 0.2997224 , 0.6633659 ,\n",
       "       0.53105193, 0.30493683, 0.5389492 , 0.5053838 , 0.26063675,\n",
       "       0.62125695, 0.20811033, 0.3378868 , 0.56623375, 0.5839475 ,\n",
       "       0.5376539 , 0.4681002 , 0.41588834, 0.45923463, 0.16100222,\n",
       "       0.57720625, 0.51862633, 0.49588415, 0.61186475, 0.4561248 ,\n",
       "       0.6098987 , 0.20488156, 0.3469058 , 0.5829619 , 0.38944787,\n",
       "       0.41932642, 0.70312923, 0.2381984 , 0.31904516, 0.43960613,\n",
       "       0.3090197 , 0.4806147 , 0.43772495, 0.63829696, 0.27252778,\n",
       "       0.40836275, 0.4897271 , 0.7151739 , 0.4692325 , 0.39167133,\n",
       "       0.30033466, 0.339976  , 0.5461804 , 0.3065565 , 0.35584778,\n",
       "       0.5504926 , 0.53560305, 0.6593567 , 0.34448424, 0.68956316,\n",
       "       0.46418267, 0.41441566, 0.64181566, 0.7499693 , 0.6738227 ,\n",
       "       0.4544105 , 0.44168884, 0.4380563 , 0.6514311 , 0.62462455,\n",
       "       0.43152446, 0.46152833, 0.80957836, 0.45716637, 0.7623174 ,\n",
       "       0.5067949 , 0.47931972, 0.73786473, 0.52849865, 0.6163376 ,\n",
       "       0.4787592 , 0.46035126, 0.5237144 , 0.4265482 , 0.47712383,\n",
       "       0.6640403 , 0.17156474, 0.5379954 , 0.39089763, 0.5835353 ,\n",
       "       0.63682723, 0.6607865 , 0.68270504, 0.42174864, 0.49177054,\n",
       "       0.48792586, 0.8002228 , 0.55397195, 0.644842  , 0.48982802,\n",
       "       0.4850226 , 0.6565664 , 0.43991762, 0.41587317, 0.3542691 ,\n",
       "       0.28255728, 0.5443752 , 0.35581774, 0.54840636, 0.4066152 ,\n",
       "       0.5380869 , 0.6620733 , 0.2893716 , 0.3399126 , 0.37936643,\n",
       "       0.48494962, 0.5055742 , 0.58862627, 0.48432207, 0.56741744,\n",
       "       0.4222229 , 0.5654009 , 0.5054388 , 0.541073  , 0.6459586 ,\n",
       "       0.43663055, 0.6846136 , 0.26839244, 0.3872499 , 0.5992935 ,\n",
       "       0.38561824, 0.50959253, 0.63190573, 0.6409692 , 0.5608133 ,\n",
       "       0.70023954, 0.60684013, 0.40191054, 0.5053264 , 0.63655   ,\n",
       "       0.651371  , 0.45481715, 0.41950864, 0.34824046, 0.3805214 ,\n",
       "       0.7144313 , 0.54380023, 0.6665461 , 0.59876   , 0.29560357,\n",
       "       0.20067279, 0.40619063, 0.6598587 , 0.37364054, 0.61381555,\n",
       "       0.44930583, 0.7460837 , 0.49848944, 0.6719834 , 0.38310206,\n",
       "       0.49167457, 0.42098323, 0.5573256 , 0.67856216, 0.53388464,\n",
       "       0.61191285, 0.39578295, 0.26970157, 0.28823763, 0.43619195,\n",
       "       0.5228486 , 0.58911973, 0.61700255, 0.38589513, 0.55085564,\n",
       "       0.3333214 , 0.50280607, 0.28519973, 0.5958559 , 0.6712863 ,\n",
       "       0.2928092 , 0.64256066, 0.6828617 , 0.45550925, 0.6798581 ,\n",
       "       0.31605285, 0.2236525 , 0.53086305, 0.7470317 , 0.31440154,\n",
       "       0.6783606 , 0.63975334, 0.5174218 , 0.6227009 , 0.4765848 ,\n",
       "       0.3618902 , 0.6139012 , 0.4874863 , 0.6087706 , 0.48514238,\n",
       "       0.5397477 , 0.5043576 , 0.5511602 , 0.9492308 , 0.4465912 ,\n",
       "       0.23516089, 0.24863145, 0.45121485, 0.37551406, 0.6024041 ,\n",
       "       0.4346655 , 0.5934997 , 0.7047173 , 0.7000936 , 0.38227534,\n",
       "       0.7245784 , 0.33878946, 0.5530067 , 0.48295742, 0.4424228 ,\n",
       "       0.76305425, 0.6468135 , 0.4514975 , 0.6240608 , 0.30251595,\n",
       "       0.3824178 , 0.43238568, 0.47322226, 0.43908194, 0.34079194,\n",
       "       0.509057  , 0.47694737, 0.13233751, 0.36556637, 0.6815449 ,\n",
       "       0.5378263 , 0.4745899 , 0.2698489 , 0.5939605 , 0.45109117,\n",
       "       0.3949501 , 0.491425  , 0.11145929, 0.6338713 , 0.6823144 ,\n",
       "       0.5815544 , 0.26551628, 0.4142666 , 0.43311808, 0.5890438 ,\n",
       "       0.5889676 , 0.5671594 , 0.15726578, 0.5294196 , 0.36898687,\n",
       "       0.5470183 , 0.48405793, 0.31358266, 0.36814448, 0.47883984,\n",
       "       0.7092016 , 0.29393917, 0.47985598, 0.3076017 , 0.10450345,\n",
       "       0.42628634, 0.17782804, 0.22281063, 0.41421083, 0.6041056 ,\n",
       "       0.2825331 , 0.70663196, 0.39444983, 0.31748384, 0.64354324,\n",
       "       0.6106906 , 0.48799035, 0.34065437, 0.5761867 , 0.36708844,\n",
       "       0.4463461 , 0.8170985 , 0.6933024 , 0.6901991 , 0.7413139 ,\n",
       "       0.5518648 , 0.40895206, 0.40734428, 0.84098494, 0.7571701 ,\n",
       "       0.38966253, 0.16113266, 0.4104576 , 0.46179566, 0.35797152],\n",
       "      dtype=float32)"
      ]
     },
     "execution_count": 115,
     "metadata": {},
     "output_type": "execute_result"
    }
   ],
   "source": [
    "X_train_scaled[0]"
   ]
  },
  {
   "cell_type": "code",
   "execution_count": null,
   "id": "8c30ff88",
   "metadata": {},
   "outputs": [],
   "source": []
  },
  {
   "cell_type": "code",
   "execution_count": null,
   "id": "2fe5b330",
   "metadata": {},
   "outputs": [],
   "source": []
  },
  {
   "cell_type": "markdown",
   "id": "e6e8514a",
   "metadata": {},
   "source": [
    "# Making a sklearn pipelearn"
   ]
  },
  {
   "cell_type": "code",
   "execution_count": null,
   "id": "97c89e8a",
   "metadata": {},
   "outputs": [],
   "source": []
  },
  {
   "cell_type": "code",
   "execution_count": null,
   "id": "62b8e6c4",
   "metadata": {},
   "outputs": [],
   "source": []
  },
  {
   "cell_type": "code",
   "execution_count": null,
   "id": "f332c0fd",
   "metadata": {},
   "outputs": [],
   "source": []
  },
  {
   "cell_type": "code",
   "execution_count": null,
   "id": "6ab2be24",
   "metadata": {},
   "outputs": [],
   "source": []
  }
 ],
 "metadata": {
  "kernelspec": {
   "display_name": "Python 3 (ipykernel)",
   "language": "python",
   "name": "python3"
  },
  "language_info": {
   "codemirror_mode": {
    "name": "ipython",
    "version": 3
   },
   "file_extension": ".py",
   "mimetype": "text/x-python",
   "name": "python",
   "nbconvert_exporter": "python",
   "pygments_lexer": "ipython3",
   "version": "3.9.12"
  }
 },
 "nbformat": 4,
 "nbformat_minor": 5
}
